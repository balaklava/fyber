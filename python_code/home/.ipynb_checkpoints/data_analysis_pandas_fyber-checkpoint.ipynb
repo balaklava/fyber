{
 "cells": [
  {
   "cell_type": "markdown",
   "metadata": {},
   "source": [
    "# Fyber test data with pandas"
   ]
  },
  {
   "cell_type": "code",
   "execution_count": 1,
   "metadata": {
    "collapsed": false
   },
   "outputs": [],
   "source": [
    "# imprting toolkits\n",
    "import pandas as pd\n",
    "import numpy as np\n",
    "import my_functions_fyber_data as FyDat\n",
    "\n",
    "# plotting\n",
    "from pandas.tools.plotting import scatter_matrix\n",
    "import matplotlib.pyplot as plt"
   ]
  },
  {
   "cell_type": "code",
   "execution_count": 2,
   "metadata": {
    "collapsed": false,
    "scrolled": true
   },
   "outputs": [
    {
     "data": {
      "text/html": [
       "<div>\n",
       "<table border=\"1\" class=\"dataframe\">\n",
       "  <thead>\n",
       "    <tr style=\"text-align: right;\">\n",
       "      <th></th>\n",
       "      <th>hour</th>\n",
       "      <th>advertisement_id</th>\n",
       "      <th>user_country_code</th>\n",
       "      <th>application_id</th>\n",
       "      <th>network_connection_type</th>\n",
       "      <th>conversion_label</th>\n",
       "    </tr>\n",
       "  </thead>\n",
       "  <tbody>\n",
       "    <tr>\n",
       "      <th>0</th>\n",
       "      <td>0</td>\n",
       "      <td>1064114</td>\n",
       "      <td>US</td>\n",
       "      <td>22369</td>\n",
       "      <td>wifi</td>\n",
       "      <td>1.0</td>\n",
       "    </tr>\n",
       "    <tr>\n",
       "      <th>1</th>\n",
       "      <td>14</td>\n",
       "      <td>1063940</td>\n",
       "      <td>ES</td>\n",
       "      <td>22369</td>\n",
       "      <td>cellular</td>\n",
       "      <td>1.0</td>\n",
       "    </tr>\n",
       "    <tr>\n",
       "      <th>2</th>\n",
       "      <td>14</td>\n",
       "      <td>1075198</td>\n",
       "      <td>DE</td>\n",
       "      <td>22369</td>\n",
       "      <td>wifi</td>\n",
       "      <td>1.0</td>\n",
       "    </tr>\n",
       "    <tr>\n",
       "      <th>3</th>\n",
       "      <td>10</td>\n",
       "      <td>1076484</td>\n",
       "      <td>CN</td>\n",
       "      <td>66050</td>\n",
       "      <td>wifi</td>\n",
       "      <td>1.0</td>\n",
       "    </tr>\n",
       "    <tr>\n",
       "      <th>4</th>\n",
       "      <td>14</td>\n",
       "      <td>1063940</td>\n",
       "      <td>MX</td>\n",
       "      <td>66061</td>\n",
       "      <td>wifi</td>\n",
       "      <td>1.0</td>\n",
       "    </tr>\n",
       "  </tbody>\n",
       "</table>\n",
       "</div>"
      ],
      "text/plain": [
       "   hour  advertisement_id user_country_code  application_id  \\\n",
       "0     0           1064114                US           22369   \n",
       "1    14           1063940                ES           22369   \n",
       "2    14           1075198                DE           22369   \n",
       "3    10           1076484                CN           66050   \n",
       "4    14           1063940                MX           66061   \n",
       "\n",
       "  network_connection_type  conversion_label  \n",
       "0                    wifi               1.0  \n",
       "1                cellular               1.0  \n",
       "2                    wifi               1.0  \n",
       "3                    wifi               1.0  \n",
       "4                    wifi               1.0  "
      ]
     },
     "execution_count": 2,
     "metadata": {},
     "output_type": "execute_result"
    }
   ],
   "source": [
    "# Reading data with pandas\n",
    "df = pd.read_csv(\"/home/olyaza/projects/fyber/data-science-challenge-master/challenge_training_data.csv\")\n",
    "df.head()"
   ]
  },
  {
   "cell_type": "code",
   "execution_count": 3,
   "metadata": {
    "collapsed": false
   },
   "outputs": [
    {
     "data": {
      "text/plain": [
       "(24, 15, 9, 9, 3, 75)"
      ]
     },
     "execution_count": 3,
     "metadata": {},
     "output_type": "execute_result"
    }
   ],
   "source": [
    "# 1. How many distinct values per featurecan you observe in the data?\n",
    "hour_dist =         len(set(df.loc[:,'hour']))\n",
    "ad_id_dist =        len(set(df.loc[:,'advertisement_id']))\n",
    "user_country_dist = len(set(df.loc[:,'user_country_code']))\n",
    "app_id_dist =       len(set(df.loc[:,'application_id']))\n",
    "network_dist =      len(set(df.loc[:,'network_connection_type']))\n",
    "conver_label_dist = len(set(df.loc[:,'conversion_label']))\n",
    "hour_dist, ad_id_dist, user_country_dist, app_id_dist, network_dist, conver_label_dist"
   ]
  },
  {
   "cell_type": "code",
   "execution_count": 4,
   "metadata": {
    "collapsed": false
   },
   "outputs": [
    {
     "data": {
      "text/plain": [
       "24"
      ]
     },
     "execution_count": 4,
     "metadata": {},
     "output_type": "execute_result"
    }
   ],
   "source": [
    "len(df.loc[:,'hour'].value_counts()) # it is a histogram"
   ]
  },
  {
   "cell_type": "code",
   "execution_count": 5,
   "metadata": {
    "collapsed": false,
    "scrolled": true
   },
   "outputs": [
    {
     "data": {
      "text/plain": [
       "24"
      ]
     },
     "execution_count": 5,
     "metadata": {},
     "output_type": "execute_result"
    }
   ],
   "source": [
    "len(df.groupby('hour'))"
   ]
  },
  {
   "cell_type": "code",
   "execution_count": 6,
   "metadata": {
    "collapsed": false
   },
   "outputs": [],
   "source": [
    "# 1. Plots\n",
    "#df.advertisement_id.value_counts().sort_index().plot(kind='bar', alpha=0.5, width=1)\n",
    "#plt.xlabel('advertisement_id')\n",
    "#plt.ylabel('number of occurences')\n",
    "#plt.tight_layout()\n",
    "#plt.show()\n",
    "\n",
    "#df.hour.value_counts().sort_index().plot(kind='bar', alpha=0.5, width=1)\n",
    "#plt.xlabel('hour')\n",
    "#plt.ylabel('number of occurences')\n",
    "#plt.tight_layout()\n",
    "#plt.show()\n",
    "\n",
    "#df['user_country_code'].value_counts().sort_index().plot(kind=\"bar\", alpha=0.5, width=1)\n",
    "#plt.show()\n",
    "\n",
    "\n",
    "fig, axes = plt.subplots(nrows=3, ncols=2)\n",
    "df.hour.value_counts().sort_index().plot(kind='bar', alpha=0.5, width=1, ax=axes[0,0])\n",
    "axes[0,0].set_title('Hours')\n",
    "axes[0,0].set_xlabel('hour')\n",
    "axes[0,0].set_ylabel('N')\n",
    "\n",
    "df.advertisement_id.value_counts().sort_index().plot(kind='bar', alpha=0.5, width=1, ax=axes[1,0])\n",
    "axes[1,0].set_title('Advertisment')\n",
    "axes[1,0].set_xlabel('advertisement_id')\n",
    "axes[1,0].set_ylabel('N')\n",
    "\n",
    "df['user_country_code'].value_counts().sort_index().plot(kind=\"bar\", alpha=0.5, width=1, ax=axes[1,1])\n",
    "axes[1,1].set_title('Country')\n",
    "axes[1,1].set_xlabel('user_country_code')\n",
    "axes[1,1].set_ylabel('N')\n",
    "\n",
    "df['network_connection_type'].value_counts().sort_index().plot(kind=\"bar\", alpha=0.5, width=1, ax=axes[0,1])\n",
    "axes[0,1].set_title('Network')\n",
    "axes[0,1].set_xlabel('network_connection_type')\n",
    "axes[0,1].set_ylabel('N')\n",
    "\n",
    "df['application_id'].value_counts().sort_index().plot(kind=\"bar\", alpha=0.5, width=1, ax=axes[2,0])\n",
    "axes[2,0].set_title('Application')\n",
    "axes[2,0].set_xlabel('application_id')\n",
    "axes[2,0].set_ylabel('N')\n",
    "\n",
    "df['conversion_label'].value_counts().sort_index().plot(kind=\"bar\", alpha=0.5, width=1, ax=axes[2,1])\n",
    "axes[2,1].set_title('Click')\n",
    "axes[2,1].set_xlabel('click')\n",
    "axes[2,1].set_ylabel('N')\n",
    "\n",
    "plt.tight_layout()\n",
    "plt.show()\n",
    "\n"
   ]
  },
  {
   "cell_type": "code",
   "execution_count": 7,
   "metadata": {
    "collapsed": false,
    "scrolled": false
   },
   "outputs": [
    {
     "data": {
      "text/plain": [
       "3289"
      ]
     },
     "execution_count": 7,
     "metadata": {},
     "output_type": "execute_result"
    }
   ],
   "source": [
    "# 2. What is the most observed combination of features and what fraction of impressions (obervations)\n",
    "# it accounts for:\n",
    "# a. In a day\n",
    "Nfeature_per_day = len(df.groupby(['hour','advertisement_id','user_country_code','application_id',\n",
    "                'network_connection_type','conversion_label']))\n",
    "Nfeature_per_day"
   ]
  },
  {
   "cell_type": "code",
   "execution_count": 8,
   "metadata": {
    "collapsed": false
   },
   "outputs": [
    {
     "data": {
      "text/plain": [
       "166"
      ]
     },
     "execution_count": 8,
     "metadata": {},
     "output_type": "execute_result"
    }
   ],
   "source": [
    "# 2. What is the most observed combination of features and what fraction of impressions (obervations)\n",
    "# it accounts for: \n",
    "# b. In an hour\n",
    "df_selectby_hour = df[df['hour'] == 14]\n",
    "Nfeature_per_hour = len(df_selectby_hour.groupby(['advertisement_id','user_country_code','application_id',\n",
    "                'network_connection_type','conversion_label']))\n",
    "Nfeature_per_hour"
   ]
  },
  {
   "cell_type": "code",
   "execution_count": 9,
   "metadata": {
    "collapsed": false
   },
   "outputs": [
    {
     "name": "stdout",
     "output_type": "stream",
     "text": [
      "3289\n"
     ]
    }
   ],
   "source": [
    "hours_filtered = set(df.loc[:,\"hour\"])\n",
    "Nfeature_per_hour = []\n",
    "for hour in hours_filtered:\n",
    "    df_selectby_hour = df[df['hour'] == hour]\n",
    "    Nfeature_per_hour_tmp = len(df_selectby_hour.groupby(['advertisement_id','user_country_code','application_id',\n",
    "                'network_connection_type','conversion_label']))\n",
    "    Nfeature_per_hour.append(Nfeature_per_hour_tmp)\n",
    "print(sum(Nfeature_per_hour))\n",
    "\n",
    "# ? with exception\n",
    "if (Nfeature_per_day == sum(Nfeature_per_hour)) == False:\n",
    "    print(\"sum(Nfeature_per_hour) should be equal Nfeature_per_day\")\n"
   ]
  },
  {
   "cell_type": "code",
   "execution_count": 10,
   "metadata": {
    "collapsed": false
   },
   "outputs": [],
   "source": [
    "# 2a Plot # COMPUTATION IS EXPENSIVE #\n",
    "#test = df.groupby(['hour','advertisement_id','user_country_code','application_id',\n",
    "#                'network_connection_type','conversion_label'])\n",
    "#test.hour.value_counts().sort_values().plot(kind='bar')\n",
    "#plt.tight_layout()\n",
    "#plt.show()"
   ]
  },
  {
   "cell_type": "code",
   "execution_count": 11,
   "metadata": {
    "collapsed": false
   },
   "outputs": [],
   "source": [
    "# 2b Plot # 24 PLOTS! #\n",
    "#hours_filtered = set(df.loc[:,\"hour\"])\n",
    "#for hour in hours_filtered:\n",
    "#    df_selectby_hour = df[df['hour'] == hour]\n",
    "#    df_hour_grouped_tmp = df_selectby_hour.groupby(['advertisement_id','user_country_code','application_id',\n",
    "#                'network_connection_type','conversion_label'])\n",
    "#    df_hour_grouped_tmp.hour.value_counts().sort_values().plot(kind='bar')\n",
    "#    plt.tight_layout()\n",
    "#    plt.title(hour)\n",
    "#    plt.show()"
   ]
  },
  {
   "cell_type": "code",
   "execution_count": 12,
   "metadata": {
    "collapsed": false,
    "scrolled": true
   },
   "outputs": [],
   "source": [
    "# 3. Find the top 5 values with the highest daily click through rate across the following features:\n",
    "click_true = 1\n",
    "click_false = 0\n",
    "length = 5\n",
    "df_length = len(df.axes[0])\n",
    "df_selectby_click = df[df['conversion_label'] == click_true]\n",
    "df_length_clicked = df_selectby_click.loc[:,'conversion_label'].value_counts().sum()\n",
    "\n",
    "# a. application b. advertisement c. country d. network e. hour\n",
    "# f. What fraction of their respective features do above top 5 values represent?\n",
    "# g. What fration of the total impressions do the top 5 values cover per feature?\n",
    "header_length = len(list(df_selectby_click.columns.values))\n",
    "headers = list(df_selectby_click.columns.values)[:header_length-1]\n",
    "for feature_name in headers:\n",
    "    df_feature_topmax = FyDat.max_values_per_feature(df_selectby_click, feature_name, length)\n",
    "    feature_fraction_total = df_feature_topmax.sum()/df_length              # g\n",
    "    feature_fraction_clicked = df_feature_topmax.sum()/df_length_clicked    # f\n",
    "    #print(feature_name, feature_fraction_total, feature_fraction_clicked)\n"
   ]
  },
  {
   "cell_type": "code",
   "execution_count": 13,
   "metadata": {
    "collapsed": false
   },
   "outputs": [],
   "source": [
    "# 3. Plots # FIVE PLOTS ! #\n",
    "# for feature_name in headers:\n",
    "#    df_feature_topmax = FyDat.max_values_per_feature(df_selectby_click, feature_name, length)\n",
    "#    df_feature_topmax.plot(kind='bar', alpha = 0.5, width = 1)\n",
    "#    plt.tight_layout()\n",
    "#    plt.title(feature_name + \" (selected by click)\")\n",
    "#    plt.show()\n",
    "    "
   ]
  },
  {
   "cell_type": "code",
   "execution_count": 14,
   "metadata": {
    "collapsed": false,
    "scrolled": true
   },
   "outputs": [
    {
     "name": "stdout",
     "output_type": "stream",
     "text": [
      "0.044770733247626135\n"
     ]
    }
   ],
   "source": [
    "# 4. If we make a combination of top value of each feature, how many impressions does it cover? \n",
    "# What fraction is this of the total observations?\n",
    "\n",
    "df_features_grouped = (df.groupby(['hour','advertisement_id','user_country_code','application_id',\n",
    "                'network_connection_type','conversion_label']))\n",
    "\n",
    "df_allFeatures_Hist = FyDat.regrouped_df(df_features_grouped)\n",
    "\n",
    "df_allFeatures_HistSort = df_allFeatures_Hist.sort_values(ascending=False, by=\"N\")\n",
    "df_allFeatures_Hist5 = df_allFeatures_HistSort[0:5]\n",
    "df_allFeatures_Hist5_sum = df_allFeatures_Hist5.sum(axis=0)['N']\n",
    "Fraction_top5_features = df_allFeatures_Hist5_sum/df_length\n",
    "print(Fraction_top5_features)\n"
   ]
  },
  {
   "cell_type": "code",
   "execution_count": 15,
   "metadata": {
    "collapsed": false
   },
   "outputs": [
    {
     "name": "stdout",
     "output_type": "stream",
     "text": [
      "0.9669669669669669\n"
     ]
    }
   ],
   "source": [
    "# 5. Given that a Brazilian (BR) user clicked on advertisement. \n",
    "# What is the likelihood (and the probability) that he has the application with id 22369?\n",
    "ID = 22369\n",
    "df_BR = df[df['user_country_code'].isin(['BR'])]\n",
    "df_BR_clicked = df_BR[df_BR['conversion_label'].isin([1])]\n",
    "df_BR_clicked_ID_len = len(df_BR_clicked[df_BR_clicked['application_id'].isin([ID])])\n",
    "df_BR_clicked_length = len(df_BR_clicked)\n",
    "prob_BR_clicked_ID = df_BR_clicked_ID_len/df_BR_clicked_length\n",
    "print(prob_BR_clicked_ID)"
   ]
  },
  {
   "cell_type": "code",
   "execution_count": 16,
   "metadata": {
    "collapsed": false
   },
   "outputs": [],
   "source": [
    "# 6. Which combination (advertisement, application, country, network) has the highest click through rate \n",
    "# with a confedence greater than 75% ? Please also outline how your recipe here for numerical estimation \n",
    "# (if computation is expensive).\n",
    " \n",
    "df_clicked = df[df['conversion_label'].isin([1])]\n",
    "df_features4_gr = (df.groupby(['advertisement_id','user_country_code','application_id','network_connection_type']))\n",
    "df_features4_clicked_gr = (df_clicked.groupby(['advertisement_id','user_country_code',\n",
    "                'application_id','network_connection_type']))\n",
    "\n",
    "df_features4_Hist = FyDat.regrouped_df(df_features4_gr)\n",
    "df_features4_clicked_Hist = FyDat.regrouped_df(df_features4_clicked_gr)\n",
    "\n",
    "# rate calculation \n",
    "rate_features4 = []\n",
    "for i in range(len(df_features4_Hist)):\n",
    "    n_features4_clicked = 0\n",
    "    for j in range(len(df_features4_clicked_Hist)):\n",
    "        if (df_features4_clicked_Hist.iat[j,0] == df_features4_Hist.iat[i,0]):\n",
    "            n_features4_clicked = df_features4_clicked_Hist.iat[j,1]\n",
    "    rate_features4.append(n_features4_clicked/df_features4_Hist.iat[i,1])\n",
    "#print(rate_features4)\n",
    "            \n",
    "# bootstraping"
   ]
  },
  {
   "cell_type": "code",
   "execution_count": 20,
   "metadata": {
    "collapsed": false,
    "scrolled": true
   },
   "outputs": [
    {
     "name": "stdout",
     "output_type": "stream",
     "text": [
      "229\n",
      "[0.0, 0.0, 0.0048780487804878049, 0.0, 0.031294452347083924, 0.01045751633986928, 0.0, 0.00036127167630057802, 0.0, 0.0, 0.0, 0.0, 0.0, 0.025965152032798085, 0.0, 0.0, 0.00057471264367816091, 0.0, 0.0, 0.0, 0.02564102564102564, 0.0, 0.0, 0.0, 0.076923076923076927, 0.0, 0.0, 0.0, 0.0, 0.0, 0.046511627906976744, 0.0, 0.0, 0.0, 0.0, 0.011315417256011316, 0.0, 0.0, 0.0, 0.0, 0.0, 0.0, 0.0029027576197387518, 0.0, 0.039568345323741004, 0.0, 0.0, 0.0, 0.0, 0.0, 0.011235955056179775, 0.0, 0.0, 0.0, 0.0032154340836012861, 0.0, 0.0, 0.0, 0.0, 0.14999999999999999, 0.0, 0.0096685082872928173, 0.0, 0.0, 0.0, 0.0, 0.0, 0.0, 0.0, 0.0, 0.0, 0.0, 0.0, 0.010727056019070322, 0.0, 0.0, 0.0, 0.0, 0.0, 0.0, 0.0, 0.0, 0.0, 0.0, 0.0, 0.0023894862604540022, 0.0, 0.0042372881355932203, 0.0, 0.0, 0.0, 0.0, 0.0, 0.0, 0.041666666666666664, 0.0, 0.0, 0.0, 0.0037817396002160996, 0.0036900369003690036, 0.0, 0.013605442176870748, 0.0, 0.058371366802786449, 0.0, 0.01077496891835889, 0.0, 0.0, 0.0, 0.0, 0.0, 0.0, 0.0, 0.024774774774774775, 0.0, 0.0, 0.028571428571428571, 0.0092135570911484038, 0.0, 0.0, 0.0, 0.0, 0.0, 0.0016136468418626094, 0.0, 0.0, 0.0, 0.010899182561307902, 0.0041908446163765314, 0.0, 0.0, 0.0, 0.0, 0.0, 0.0, 0.0, 0.0, 0.0, 0.0067114093959731542, 0.0, 0.0, 0.0, 0.0, 0.0, 0.0024330900243309003, 0.0036407766990291263, 0.013157894736842105, 0.0, 0.0, 0.013978088401964487, 0.0, 0.0, 0.0064516129032258064, 0.0021358393848782574, 0.0, 0.0, 0.0, 0.0, 0.047619047619047616, 0.0037313432835820895, 0.0, 0.0, 0.0059880239520958087, 0.0, 0.0, 0.0, 0.0, 0.0015151515151515152, 0.0, 0.0, 0.0, 0.0, 0.0, 0.0, 0.056603773584905662, 0.0, 0.012861736334405145, 0.0022522522522522522, 0.0, 0.0, 0.023809523809523808, 0.037037037037037035, 0.0, 0.0, 0.0, 0.0, 0.0, 0.0, 0.04878048780487805, 0.0, 0.0, 0.0, 0.0, 0.0, 0.0, 0.0046728971962616819, 0.0, 0.0, 0.0, 0.0, 0.0, 0.0, 0.0, 0.0, 0.0, 0.0, 0.0, 0.005837711617046118, 0.049261083743842367, 0.0, 0.0, 0.0, 0.012658227848101266, 0.0, 0.0, 0.021276595744680851, 0.0096942580164056675, 0.0053191489361702126, 0.0, 0.0, 0.0, 0.0, 0.0, 0.0, 0.0, 0.034482758620689655, 0.0, 0.0, 0.0] 12    (1071444, US, 38518, cellular)\n",
      "13        (1064114, US, 22369, wifi)\n",
      "14        (1075300, MX, 45894, wifi)\n",
      "Name: Feature, dtype: object\n"
     ]
    }
   ],
   "source": [
    "plt.bar(df_features4_Hist.index.values, rate_features4, width=1)\n",
    "plt.show()"
   ]
  },
  {
   "cell_type": "code",
   "execution_count": 18,
   "metadata": {
    "collapsed": false
   },
   "outputs": [],
   "source": [
    "# 7. What significant correlations / relationships can you learn among the features?\n",
    "# Also, can you rank features by their relative importance for click prediction?\n",
    "\n",
    "#import matplotlib\n",
    "#matplotlib.style.use('ggplot')\n",
    "\n",
    "# plot 0: Correlation matrix of all values\n",
    "scatter_matrix(df.ix[:,[\"hour\",\"advertisement_id\",\"application_id\",\"conversion_label\"]],\n",
    "               alpha = 0.2, figsize=(6, 6), diagonal='kde')\n",
    "plt.show()\n",
    "\n",
    "# plot 1\n",
    "df.hour.value_counts().plot(kind='bar')\n",
    "plt.title(\"test\")\n",
    "plt.show()\n",
    "\n",
    "# plot 2\n",
    "\n",
    "# plot 3\n",
    "\n",
    "# plot 4\n"
   ]
  }
 ],
 "metadata": {
  "kernelspec": {
   "display_name": "Python 3",
   "language": "python",
   "name": "python3"
  },
  "language_info": {
   "codemirror_mode": {
    "name": "ipython",
    "version": 3
   },
   "file_extension": ".py",
   "mimetype": "text/x-python",
   "name": "python",
   "nbconvert_exporter": "python",
   "pygments_lexer": "ipython3",
   "version": "3.5.2"
  }
 },
 "nbformat": 4,
 "nbformat_minor": 0
}
